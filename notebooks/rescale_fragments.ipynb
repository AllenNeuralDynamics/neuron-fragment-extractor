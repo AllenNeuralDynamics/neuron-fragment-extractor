{
 "cells": [
  {
   "cell_type": "markdown",
   "id": "ce42c510-12c6-4f02-97c6-98a2c8fed187",
   "metadata": {},
   "source": [
    "<div style=\"background-color: darkred; padding: 10px; color: white;\">\n",
    "\n",
    "# Rescale Neuron Fragments\n",
    "\n",
    "</div>\n"
   ]
  },
  {
   "cell_type": "markdown",
   "id": "dfb3fd11-e8eb-4779-baa4-a7fd915d173a",
   "metadata": {},
   "source": [
    "## Imports"
   ]
  },
  {
   "cell_type": "code",
   "execution_count": 1,
   "id": "f64b203a-a0fc-420b-a7b5-461a5602ae07",
   "metadata": {
    "tags": []
   },
   "outputs": [],
   "source": [
    "import os\n",
    "\n",
    "from deep_neurographs.fragments_graph import FragmentsGraph"
   ]
  },
  {
   "cell_type": "markdown",
   "id": "9a8584d6-81fc-41a1-91ea-551f1f22c183",
   "metadata": {},
   "source": [
    "## Load Neuron Fragments"
   ]
  },
  {
   "cell_type": "code",
   "execution_count": 18,
   "id": "eb1b55be-954f-4fe2-aeae-c669efc190d7",
   "metadata": {
    "tags": []
   },
   "outputs": [
    {
     "name": "stderr",
     "output_type": "stream",
     "text": [
      "Read SWCs: 100%|██████████| 127/127 [00:00<00:00, 258.27it/s]"
     ]
    },
    {
     "name": "stdout",
     "output_type": "stream",
     "text": [
      "assigning processes\n"
     ]
    },
    {
     "name": "stderr",
     "output_type": "stream",
     "text": [
      "\n"
     ]
    },
    {
     "name": "stdout",
     "output_type": "stream",
     "text": [
      "processes assigned\n"
     ]
    },
    {
     "name": "stderr",
     "output_type": "stream",
     "text": [
      "Extract Graphs: 100%|██████████| 127/127 [00:01<00:00, 97.59it/s]  \n"
     ]
    }
   ],
   "source": [
    "# Initializations\n",
    "fragments_dir = \"/home/jupyter/workspace/outputs/projections\"\n",
    "filename = \"N030-719654-axon-BP.zip\"\n",
    "\n",
    "# Main\n",
    "fragments_pointer = os.path.join(fragments_dir, filename)\n",
    "fragments_graph = FragmentsGraph(\n",
    "    anisotropy=(0.748, 0.748, 1.0),\n",
    "    node_spacing=1,\n",
    "    smooth_bool=False,\n",
    "    verbose=True,\n",
    ")\n",
    "fragments_graph.load_fragments(fragments_pointer)"
   ]
  },
  {
   "cell_type": "markdown",
   "id": "624134ed-85ce-438e-a3dc-812f590b4ac0",
   "metadata": {},
   "source": [
    "## Save Neuron Fragments"
   ]
  },
  {
   "cell_type": "code",
   "execution_count": 19,
   "id": "8adc0d4d-30ce-4678-b0e1-8809c021f7e9",
   "metadata": {
    "tags": []
   },
   "outputs": [
    {
     "data": {
      "text/plain": [
       "127"
      ]
     },
     "execution_count": 19,
     "metadata": {},
     "output_type": "execute_result"
    }
   ],
   "source": [
    "# Initializations\n",
    "output_dir =  \"/home/jupyter/workspace/outputs/rescaled_projections\"\n",
    "zip_path = os.path.join(output_dir, filename)\n",
    "\n",
    "# Main\n",
    "fragments_graph.to_zipped_swcs(zip_path)"
   ]
  },
  {
   "cell_type": "code",
   "execution_count": null,
   "id": "5517f644-edfe-4f90-819e-c52970d7819a",
   "metadata": {},
   "outputs": [],
   "source": []
  }
 ],
 "metadata": {
  "environment": {
   "kernel": "python3",
   "name": ".m121",
   "type": "gcloud",
   "uri": "us-docker.pkg.dev/deeplearning-platform-release/gcr.io/:m121"
  },
  "kernelspec": {
   "display_name": "Python 3 (Local)",
   "language": "python",
   "name": "python3"
  },
  "language_info": {
   "codemirror_mode": {
    "name": "ipython",
    "version": 3
   },
   "file_extension": ".py",
   "mimetype": "text/x-python",
   "name": "python",
   "nbconvert_exporter": "python",
   "pygments_lexer": "ipython3",
   "version": "3.10.14"
  }
 },
 "nbformat": 4,
 "nbformat_minor": 5
}
