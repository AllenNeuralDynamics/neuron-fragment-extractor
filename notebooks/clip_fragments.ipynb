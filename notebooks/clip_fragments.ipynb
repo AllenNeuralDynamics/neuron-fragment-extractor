{
 "cells": [
  {
   "cell_type": "markdown",
   "id": "2fa17e2c-0de9-4792-a880-49e1b149654d",
   "metadata": {
    "tags": []
   },
   "source": [
    "<div style=\"background-color: darkred; padding: 10px; color: white;\">\n",
    "\n",
    "# Neuron Fragment Extractor\n",
    "\n",
    "</div>"
   ]
  },
  {
   "cell_type": "raw",
   "id": "95bf4462-f3ea-4f60-ac8f-564570d7143b",
   "metadata": {},
   "source": [
    "The purpose of this notebook is to clip neuron fragments so that they are fully contained within a given bounding box."
   ]
  },
  {
   "cell_type": "markdown",
   "id": "8b8ed47c-db20-492b-b0b3-3d9dea20ff52",
   "metadata": {},
   "source": [
    "### Imports"
   ]
  },
  {
   "cell_type": "code",
   "execution_count": 1,
   "id": "f890a7fa-dc17-475b-95d3-824ad7b34e84",
   "metadata": {
    "tags": []
   },
   "outputs": [],
   "source": [
    "from neuron_fragment_extractor import visualization as viz\n",
    "from neuron_fragment_extractor.skeleton_graph import SkeletonGraph\n",
    "from neuron_fragment_extractor.utils import util"
   ]
  },
  {
   "cell_type": "markdown",
   "id": "86246865-f402-49ee-86d0-6c3f2f4fccd6",
   "metadata": {},
   "source": [
    "### Subroutines"
   ]
  },
  {
   "cell_type": "code",
   "execution_count": 2,
   "id": "94498bff-57f3-4240-ae32-fddeb5320b25",
   "metadata": {
    "tags": []
   },
   "outputs": [],
   "source": [
    "def init_graph(swc_pointer):\n",
    "    graph = SkeletonGraph(anisotropy, origin, shape)\n",
    "    graph.load_swcs(swc_pointer)\n",
    "    return graph"
   ]
  },
  {
   "cell_type": "markdown",
   "id": "4febf5e2-ad00-4b2f-a8c3-a0e6b662f778",
   "metadata": {},
   "source": [
    "### Initializations"
   ]
  },
  {
   "cell_type": "code",
   "execution_count": 3,
   "id": "a66b39e9-a3ad-43d9-a16d-0f3497e8379d",
   "metadata": {
    "tags": []
   },
   "outputs": [],
   "source": [
    "# Parameters\n",
    "brain_id = \"653158\"\n",
    "block_id = \"block_000\"\n",
    "segmentation_id = \"20230801_lower_mean_stddev\"\n",
    "anisotropy = (0.748, 0.748, 1.0)\n",
    "\n",
    "# Paths\n",
    "dataset_dir = f\"/home/jupyter/workspace/data/graphtrace/train/{brain_id}\"\n",
    "fragments_dir = f\"{dataset_dir}/pred_swcs/{segmentation_id}/blocks/{block_id}\"\n",
    "groundtruth_dir = f\"{dataset_dir}/target_swcs/blocks/{block_id}/final-trees\"\n",
    "metadata_path = f\"{dataset_dir}/target_swcs/blocks/{block_id}/metadata.json\""
   ]
  },
  {
   "cell_type": "markdown",
   "id": "7de6afa7-0668-4622-8b53-c6056dfbbcb8",
   "metadata": {},
   "source": [
    "### Build Graphs"
   ]
  },
  {
   "cell_type": "code",
   "execution_count": 4,
   "id": "a63d8aa6-a82a-46de-8559-7c87275c2fe5",
   "metadata": {
    "tags": []
   },
   "outputs": [],
   "source": [
    "# Read metadata (if applicable)\n",
    "if metadata_path:\n",
    "    metadata = util.read_json(metadata_path)\n",
    "    origin = metadata[\"chunk_origin\"][::-1]\n",
    "    shape = metadata[\"chunk_shape\"][::-1]\n",
    "else:\n",
    "    origin = None\n",
    "    shape = None\n",
    "\n",
    "# Build graphs\n",
    "fragments_graph = init_graph(fragments_dir)\n",
    "groundtruth_graph = init_graph(groundtruth_dir)"
   ]
  },
  {
   "cell_type": "markdown",
   "id": "e8cdecae-07d6-4a60-81ef-bc593c68f98d",
   "metadata": {},
   "source": [
    "### Visualize Graphs"
   ]
  },
  {
   "cell_type": "code",
   "execution_count": 5,
   "id": "4b0dcb36-7c08-4133-a3f6-df4a65a4f9c8",
   "metadata": {
    "tags": []
   },
   "outputs": [],
   "source": [
    "if False:\n",
    "    viz.visualize_with_groundtruth(fragments_graph, groundtruth_graph)"
   ]
  },
  {
   "cell_type": "markdown",
   "id": "e24518e3-0aa3-4f12-957c-4406137e0484",
   "metadata": {},
   "source": [
    "### Save Result"
   ]
  },
  {
   "cell_type": "code",
   "execution_count": 6,
   "id": "b7377cc2-2b2b-4884-84aa-cd0942a4bc81",
   "metadata": {
    "tags": []
   },
   "outputs": [],
   "source": [
    "if False:\n",
    "    fragments_graph.write(fragments_dir)"
   ]
  }
 ],
 "metadata": {
  "environment": {
   "kernel": "python3",
   "name": ".m120",
   "type": "gcloud",
   "uri": "us-docker.pkg.dev/deeplearning-platform-release/gcr.io/:m120"
  },
  "kernelspec": {
   "display_name": "Python 3 (Local)",
   "language": "python",
   "name": "python3"
  },
  "language_info": {
   "codemirror_mode": {
    "name": "ipython",
    "version": 3
   },
   "file_extension": ".py",
   "mimetype": "text/x-python",
   "name": "python",
   "nbconvert_exporter": "python",
   "pygments_lexer": "ipython3",
   "version": "3.10.14"
  }
 },
 "nbformat": 4,
 "nbformat_minor": 5
}
